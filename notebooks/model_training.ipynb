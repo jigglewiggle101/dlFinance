{
 "cells": [
  {
   "cell_type": "code",
   "execution_count": null,
   "metadata": {
    "vscode": {
     "languageId": "plaintext"
    }
   },
   "outputs": [],
   "source": [
    "import numpy as np\n",
    "import pandas as pd\n",
    "from sklearn.preprocessing import MinMaxScaler\n",
    "from models.lstm_model import create_lstm_model\n",
    "\n",
    "# Load data (e.g., AAPL)\n",
    "data = pd.read_csv('data/historical_data/aapl_data.csv')\n",
    "\n",
    "# Preprocess data\n",
    "scaler = MinMaxScaler(feature_range=(0, 1))\n",
    "scaled_data = scaler.fit_transform(data['Close'].values.reshape(-1, 1))\n",
    "\n",
    "# Create and train LSTM model\n",
    "model = create_lstm_model(input_shape=(scaled_data.shape[1], 1))\n",
    "model.fit(scaled_data, epochs=10, batch_size=32)\n"
   ]
  }
 ],
 "metadata": {
  "language_info": {
   "name": "python"
  }
 },
 "nbformat": 4,
 "nbformat_minor": 2
}

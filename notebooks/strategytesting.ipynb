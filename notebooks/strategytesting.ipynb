{
 "cells": [
  {
   "cell_type": "code",
   "execution_count": null,
   "metadata": {
    "vscode": {
     "languageId": "plaintext"
    }
   },
   "outputs": [],
   "source": [
    "import backtrader as bt\n",
    "from backtesting.backtest import BuyAndHold\n",
    "\n",
    "# Running the strategy\n",
    "cerebro = bt.Cerebro()\n",
    "cerebro.addstrategy(BuyAndHold)\n",
    "cerebro.run()\n",
    "cerebro.plot()\n"
   ]
  }
 ],
 "metadata": {
  "language_info": {
   "name": "python"
  }
 },
 "nbformat": 4,
 "nbformat_minor": 2
}

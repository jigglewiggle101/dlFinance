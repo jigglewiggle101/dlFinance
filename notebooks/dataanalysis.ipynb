{
 "cells": [
  {
   "cell_type": "code",
   "execution_count": null,
   "metadata": {
    "vscode": {
     "languageId": "plaintext"
    }
   },
   "outputs": [],
   "source": [
    "import yfinance as yf\n",
    "import matplotlib.pyplot as plt\n",
    "\n",
    "# Fetching data for AAPL\n",
    "data = yf.download('AAPL', start='2015-01-01', end='2020-12-31')\n",
    "\n",
    "# Plotting the stock price\n",
    "data['Close'].plot(title='AAPL Stock Price')\n",
    "plt.show()\n"
   ]
  }
 ],
 "metadata": {
  "language_info": {
   "name": "python"
  }
 },
 "nbformat": 4,
 "nbformat_minor": 2
}
